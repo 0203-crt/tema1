{
 "cells": [
  {
   "cell_type": "code",
   "execution_count": 1,
   "metadata": {},
   "outputs": [],
   "source": [
    "#1.Sum the numbers on each line\n",
    "f = open('numbers.txt','r')\n",
    "\n",
    "def process_line(line):\n",
    "    return list(map(float,   str.split(line[:-1], ',')   ))\n",
    "    \n",
    "linii = [process_line(line) for line in f]\n",
    "f.close()"
   ]
  },
  {
   "cell_type": "code",
   "execution_count": 4,
   "metadata": {},
   "outputs": [
    {
     "data": {
      "text/plain": [
       "[75.0, 175.0, 229.0, 138.0, 185.0, 155.0]"
      ]
     },
     "execution_count": 4,
     "metadata": {},
     "output_type": "execute_result"
    }
   ],
   "source": [
    "def Sum(index):\n",
    "    Sum=0\n",
    "    for i in linii[index]:\n",
    "        Sum+=i\n",
    "    return Sum\n",
    "Sume=[]\n",
    "for j in range(len(linii)):\n",
    "    Sume.append(Sum(j))\n",
    "Sume\n"
   ]
  },
  {
   "cell_type": "code",
   "execution_count": 7,
   "metadata": {},
   "outputs": [
    {
     "data": {
      "text/plain": [
       "957.0"
      ]
     },
     "execution_count": 7,
     "metadata": {},
     "output_type": "execute_result"
    }
   ],
   "source": [
    "#2.Sum all the numbers\n",
    "\n",
    "suma=0\n",
    "for i in range(len(linii)):\n",
    "    for j in linii[i]:\n",
    "        suma += j\n",
    "suma"
   ]
  },
  {
   "cell_type": "code",
   "execution_count": 8,
   "metadata": {},
   "outputs": [
    {
     "data": {
      "text/plain": [
       "[10.0,\n",
       " 15.0,\n",
       " 20.0,\n",
       " 30.0,\n",
       " 20.0,\n",
       " 25.0,\n",
       " 50.0,\n",
       " 80.0,\n",
       " 50.0,\n",
       " 54.0,\n",
       " 55.0,\n",
       " 70.0,\n",
       " 30.0,\n",
       " 35.0,\n",
       " 60.0,\n",
       " 13.0,\n",
       " 40.0,\n",
       " 45.0,\n",
       " 70.0,\n",
       " 30.0,\n",
       " 60.0,\n",
       " 66.0,\n",
       " 12.0,\n",
       " 17.0]"
      ]
     },
     "execution_count": 8,
     "metadata": {},
     "output_type": "execute_result"
    }
   ],
   "source": [
    "#3.Concatenate them all into a single list\n",
    "concatenare=[]\n",
    "for j in range(len(linii)):\n",
    "    concatenare +=linii[j]\n",
    "\n",
    "concatenare"
   ]
  },
  {
   "cell_type": "code",
   "execution_count": 11,
   "metadata": {},
   "outputs": [
    {
     "name": "stdout",
     "output_type": "stream",
     "text": [
      "1\n",
      "2\n",
      "3\n",
      "4\n",
      "5\n",
      "6\n",
      "7\n",
      "8\n",
      "9\n",
      "10\n",
      "11\n",
      "12\n",
      "13\n"
     ]
    }
   ],
   "source": [
    "#4.Count how many of them are larger than 30.1.\n",
    "count=0\n",
    "for i in concatenare:\n",
    "    if i>30.1:\n",
    "        count +=1;\n",
    "        print(count)\n",
    "\n"
   ]
  },
  {
   "cell_type": "code",
   "execution_count": 13,
   "metadata": {},
   "outputs": [
    {
     "name": "stdout",
     "output_type": "stream",
     "text": [
      "[[1, 0], [2, 0], [3, 0], [4, 0], [5, 0], [6, 0], [7, 0], [8, 0], [9, 0], [10, 0], [11, 1], [12, 1], [13, 2], [14, 3], [15, 3], [16, 4], [17, 4], [18, 5], [19, 5], [20, 5], [21, 7], [22, 7], [23, 7], [24, 7], [25, 7], [26, 8], [27, 8], [28, 8], [29, 8], [30, 8], [31, 11], [32, 11], [33, 11], [34, 11], [35, 11], [36, 12], [37, 12], [38, 12], [39, 12], [40, 12], [41, 13], [42, 13], [43, 13], [44, 13], [45, 13], [46, 14], [47, 14], [48, 14], [49, 14], [50, 14], [51, 16], [52, 16], [53, 16], [54, 16], [55, 17], [56, 18], [57, 18], [58, 18], [59, 18], [60, 18], [61, 20], [62, 20], [63, 20], [64, 20], [65, 20], [66, 20], [67, 21], [68, 21], [69, 21], [70, 21], [71, 23], [72, 23], [73, 23], [74, 23], [75, 23], [76, 23], [77, 23], [78, 23], [79, 23], [80, 23], [81, 24], [82, 24], [83, 24], [84, 24], [85, 24], [86, 24], [87, 24], [88, 24], [89, 24], [90, 24], [91, 24], [92, 24], [93, 24], [94, 24], [95, 24], [96, 24], [97, 24], [98, 24], [99, 24], [100, 24]]\n"
     ]
    }
   ],
   "source": [
    "#5.for each natural number threshold from 1 to 100 show how many numbers are smaller than it.\n",
    "def thresholdcheck(threshold, concatenare):\n",
    "    count = 0;\n",
    "    for i in range(0, len(concatenare)):\n",
    "            if (concatenare[i] < threshold):\n",
    "                count += 1\n",
    "    return count\n",
    "\n",
    "threshold_list = list()\n",
    "for i in range(1,101):\n",
    "    threshold_list.append([i,thresholdcheck(i,concatenare)])\n",
    "print(threshold_list)\n",
    "f.close()"
   ]
  },
  {
   "cell_type": "code",
   "execution_count": null,
   "metadata": {},
   "outputs": [],
   "source": []
  }
 ],
 "metadata": {
  "kernelspec": {
   "display_name": "Python 3",
   "language": "python",
   "name": "python3"
  },
  "language_info": {
   "codemirror_mode": {
    "name": "ipython",
    "version": 3
   },
   "file_extension": ".py",
   "mimetype": "text/x-python",
   "name": "python",
   "nbconvert_exporter": "python",
   "pygments_lexer": "ipython3",
   "version": "3.7.4"
  }
 },
 "nbformat": 4,
 "nbformat_minor": 2
}
